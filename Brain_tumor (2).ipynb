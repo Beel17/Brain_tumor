{
  "cells": [
    {
      "cell_type": "code",
      "execution_count": null,
      "metadata": {
        "colab": {
          "base_uri": "https://localhost:8080/"
        },
        "id": "dakuRBjlJJrg",
        "outputId": "f918b846-7884-44c3-cc73-9fa83f378d99",
        "collapsed": true
      },
      "outputs": [
        {
          "output_type": "stream",
          "name": "stdout",
          "text": [
            "Requirement already satisfied: opencv-python in /usr/local/lib/python3.11/dist-packages (4.11.0.86)\n",
            "Requirement already satisfied: numpy>=1.21.2 in /usr/local/lib/python3.11/dist-packages (from opencv-python) (2.0.2)\n",
            "Collecting keras-tuner\n",
            "  Downloading keras_tuner-1.4.7-py3-none-any.whl.metadata (5.4 kB)\n",
            "Requirement already satisfied: keras in /usr/local/lib/python3.11/dist-packages (from keras-tuner) (3.8.0)\n",
            "Requirement already satisfied: packaging in /usr/local/lib/python3.11/dist-packages (from keras-tuner) (24.2)\n",
            "Requirement already satisfied: requests in /usr/local/lib/python3.11/dist-packages (from keras-tuner) (2.32.3)\n",
            "Collecting kt-legacy (from keras-tuner)\n",
            "  Downloading kt_legacy-1.0.5-py3-none-any.whl.metadata (221 bytes)\n",
            "Requirement already satisfied: absl-py in /usr/local/lib/python3.11/dist-packages (from keras->keras-tuner) (1.4.0)\n",
            "Requirement already satisfied: numpy in /usr/local/lib/python3.11/dist-packages (from keras->keras-tuner) (2.0.2)\n",
            "Requirement already satisfied: rich in /usr/local/lib/python3.11/dist-packages (from keras->keras-tuner) (13.9.4)\n",
            "Requirement already satisfied: namex in /usr/local/lib/python3.11/dist-packages (from keras->keras-tuner) (0.0.8)\n",
            "Requirement already satisfied: h5py in /usr/local/lib/python3.11/dist-packages (from keras->keras-tuner) (3.13.0)\n",
            "Requirement already satisfied: optree in /usr/local/lib/python3.11/dist-packages (from keras->keras-tuner) (0.14.1)\n",
            "Requirement already satisfied: ml-dtypes in /usr/local/lib/python3.11/dist-packages (from keras->keras-tuner) (0.4.1)\n",
            "Requirement already satisfied: charset-normalizer<4,>=2 in /usr/local/lib/python3.11/dist-packages (from requests->keras-tuner) (3.4.1)\n",
            "Requirement already satisfied: idna<4,>=2.5 in /usr/local/lib/python3.11/dist-packages (from requests->keras-tuner) (3.10)\n",
            "Requirement already satisfied: urllib3<3,>=1.21.1 in /usr/local/lib/python3.11/dist-packages (from requests->keras-tuner) (2.3.0)\n",
            "Requirement already satisfied: certifi>=2017.4.17 in /usr/local/lib/python3.11/dist-packages (from requests->keras-tuner) (2025.1.31)\n",
            "Requirement already satisfied: typing-extensions>=4.5.0 in /usr/local/lib/python3.11/dist-packages (from optree->keras->keras-tuner) (4.13.1)\n",
            "Requirement already satisfied: markdown-it-py>=2.2.0 in /usr/local/lib/python3.11/dist-packages (from rich->keras->keras-tuner) (3.0.0)\n",
            "Requirement already satisfied: pygments<3.0.0,>=2.13.0 in /usr/local/lib/python3.11/dist-packages (from rich->keras->keras-tuner) (2.18.0)\n",
            "Requirement already satisfied: mdurl~=0.1 in /usr/local/lib/python3.11/dist-packages (from markdown-it-py>=2.2.0->rich->keras->keras-tuner) (0.1.2)\n",
            "Downloading keras_tuner-1.4.7-py3-none-any.whl (129 kB)\n",
            "\u001b[2K   \u001b[90m━━━━━━━━━━━━━━━━━━━━━━━━━━━━━━━━━━━━━━━━\u001b[0m \u001b[32m129.1/129.1 kB\u001b[0m \u001b[31m3.5 MB/s\u001b[0m eta \u001b[36m0:00:00\u001b[0m\n",
            "\u001b[?25hDownloading kt_legacy-1.0.5-py3-none-any.whl (9.6 kB)\n",
            "Installing collected packages: kt-legacy, keras-tuner\n",
            "Successfully installed keras-tuner-1.4.7 kt-legacy-1.0.5\n"
          ]
        }
      ],
      "source": [
        "!pip install opencv-python\n",
        "!pip install keras-tuner"
      ]
    },
    {
      "cell_type": "markdown",
      "source": [
        "**IMPORTING** LIBRARIES"
      ],
      "metadata": {
        "id": "WgVgaY1JweW0"
      }
    },
    {
      "cell_type": "code",
      "execution_count": null,
      "metadata": {
        "id": "MME3whr7QwRN",
        "colab": {
          "base_uri": "https://localhost:8080/"
        },
        "outputId": "9ed559ec-5be1-4e93-8393-3d5f096341ce"
      },
      "outputs": [
        {
          "output_type": "stream",
          "name": "stderr",
          "text": [
            "<ipython-input-2-3f44911a7924>:21: DeprecationWarning: `import kerastuner` is deprecated, please use `import keras_tuner`.\n",
            "  import kerastuner as kt\n"
          ]
        }
      ],
      "source": [
        "# importing necessary libraries\n",
        "import kagglehub\n",
        "import tensorflow as tf\n",
        "from tensorflow import keras\n",
        "import sklearn\n",
        "import numpy as np\n",
        "import matplotlib.pyplot as plt\n",
        "import pandas as pd\n",
        "import cv2\n",
        "import os\n",
        "import shutil\n",
        "import random\n",
        "from tqdm import tqdm\n",
        "import tensorflow as tf\n",
        "from tensorflow.keras.applications import EfficientNetB0\n",
        "from tensorflow.keras.layers import GlobalAveragePooling2D, Dense, Dropout\n",
        "from tensorflow.keras.models import Sequential\n",
        "from tensorflow.keras.preprocessing.image import ImageDataGenerator\n",
        "from tensorflow.keras.optimizers import Adamax\n",
        "from tensorflow.keras.metrics import Precision,Recall\n",
        "import kerastuner as kt\n",
        "import seaborn as sns\n",
        "from sklearn.model_selection import train_test_split\n",
        "from sklearn.metrics import classification_report, confusion_matrix\n",
        "import warnings\n",
        "warnings.filterwarnings(\"ignore\")\n"
      ]
    },
    {
      "cell_type": "code",
      "source": [
        "path = kagglehub.dataset_download(\"navoneel/brain-mri-images-for-brain-tumor-detection\")\n",
        "\n",
        "print(\"Path to dataset files:\", path)"
      ],
      "metadata": {
        "id": "1Unym_ep5TvT",
        "colab": {
          "base_uri": "https://localhost:8080/"
        },
        "outputId": "57b06a1c-fccb-45ab-d166-46db472fadcc"
      },
      "execution_count": null,
      "outputs": [
        {
          "output_type": "stream",
          "name": "stdout",
          "text": [
            "Path to dataset files: /kaggle/input/brain-mri-images-for-brain-tumor-detection\n"
          ]
        }
      ]
    },
    {
      "cell_type": "markdown",
      "source": [
        "# Exploratory Data Analysis(EDA)"
      ],
      "metadata": {
        "id": "KZeAkK6L3YYx"
      }
    },
    {
      "cell_type": "code",
      "execution_count": null,
      "metadata": {
        "colab": {
          "base_uri": "https://localhost:8080/"
        },
        "id": "1L6g0mFvRGBX",
        "outputId": "1826986a-d176-4701-f818-bc84a56caf05"
      },
      "outputs": [
        {
          "output_type": "stream",
          "name": "stdout",
          "text": [
            "Dataset copied to: /content\n"
          ]
        }
      ],
      "source": [
        "\n",
        "# Define source and destination paths\n",
        "source_path = \"/kaggle/input/brain-mri-images-for-brain-tumor-detection\"\n",
        "destination_path = \"/content\"\n",
        "\n",
        "# Copy the dataset to /content for easier access or to allow modifications\n",
        "shutil.copytree(source_path, destination_path, dirs_exist_ok=True)\n",
        "\n",
        "print(\"Dataset copied to:\", destination_path)\n"
      ]
    },
    {
      "cell_type": "code",
      "execution_count": null,
      "metadata": {
        "id": "tHEtLqrtT9WQ"
      },
      "outputs": [],
      "source": [
        "# checking the folderrs in the dataset\n",
        "def check_class(dataset_path):  # Update if you moved it elsewhere\n",
        "    if os.path.exists(dataset_path):\n",
        "        print(\"✅ Dataset found at:\", dataset_path)\n",
        "        print(\"📂 Files inside dataset:\", os.listdir(dataset_path))\n",
        "    else:\n",
        "        print(\"❌ Dataset not found. Check the path.\")"
      ]
    },
    {
      "cell_type": "code",
      "source": [
        "check_class(\"/content/brain_tumor_dataset\")"
      ],
      "metadata": {
        "colab": {
          "base_uri": "https://localhost:8080/"
        },
        "id": "2dL2OqKO4F8g",
        "outputId": "5bd6c2f0-12ec-464e-dd04-30667ce41306"
      },
      "execution_count": null,
      "outputs": [
        {
          "output_type": "stream",
          "name": "stdout",
          "text": [
            "✅ Dataset found at: /content/brain_tumor_dataset\n",
            "📂 Files inside dataset: ['yes', 'no']\n"
          ]
        }
      ]
    },
    {
      "cell_type": "code",
      "execution_count": null,
      "metadata": {
        "colab": {
          "base_uri": "https://localhost:8080/"
        },
        "id": "zeryB9tlVQGD",
        "outputId": "1d3672a9-edf5-4d96-8ffb-545f5e064e05"
      },
      "outputs": [
        {
          "output_type": "stream",
          "name": "stdout",
          "text": [
            "📂 no: 98 images\n",
            "📂 yes: 155 images\n"
          ]
        }
      ],
      "source": [
        "\n",
        "# Define dataset path\n",
        "d_path = \"/content/brain_tumor_dataset\"\n",
        "\n",
        "# List tumor categories\n",
        "path_category = [\"no\", \"yes\"]\n",
        "\n",
        "# Count images in each category\n",
        "for img in path_category:\n",
        "    folder_path = os.path.join(d_path, img)\n",
        "    num_images = len(os.listdir(folder_path)) if os.path.exists(folder_path) else 0\n",
        "    print(f\"📂 {img}: {num_images} images\")\n",
        "\n"
      ]
    },
    {
      "cell_type": "code",
      "source": [
        "import os\n",
        "import pandas as pd\n",
        "from PIL import Image\n",
        "\n",
        "def load_df(path):\n",
        "    classes = []\n",
        "    class_paths = []\n",
        "    invalid_images = []  # To store invalid image paths\n",
        "\n",
        "    for label in os.listdir(path):\n",
        "        label_path = os.path.join(path, label)\n",
        "\n",
        "        # Check if it's a directory (i.e., a class folder)\n",
        "        if os.path.isdir(label_path):\n",
        "            try:\n",
        "                for image in os.listdir(label_path):\n",
        "                    image_path = os.path.join(label_path, image)\n",
        "\n",
        "                    # Only add image files\n",
        "                    if os.path.isfile(image_path):\n",
        "                        # Check if the image is valid\n",
        "                        try:\n",
        "                            with Image.open(image_path) as img:\n",
        "                                img.verify()  # Verify if the image is intact\n",
        "                            classes.append(label)\n",
        "                            class_paths.append(image_path)\n",
        "                        except (IOError, SyntaxError) as e:\n",
        "                            invalid_images.append(image_path)  # Log invalid image path\n",
        "            except Exception as e:\n",
        "                print(f\"Error processing folder {label}: {e}\")\n",
        "\n",
        "    # Create DataFrame with class paths and labels\n",
        "    df = pd.DataFrame({'Class Path': class_paths, 'Class': classes})\n",
        "\n",
        "    # Report invalid images\n",
        "    if invalid_images:\n",
        "        print(\"The following images are invalid or corrupted:\")\n",
        "        for img_path in invalid_images:\n",
        "            print(f\"Invalid Image: {img_path}\")\n",
        "\n",
        "    return df\n"
      ],
      "metadata": {
        "id": "6CELmUh6eRKZ"
      },
      "execution_count": null,
      "outputs": []
    },
    {
      "cell_type": "code",
      "source": [
        "load_df(\"/content/brain_tumor_dataset\")"
      ],
      "metadata": {
        "colab": {
          "base_uri": "https://localhost:8080/",
          "height": 424
        },
        "id": "GwKWd1h9eUVm",
        "outputId": "ec264760-1a56-43d8-b575-7f3e29af5ec9"
      },
      "execution_count": null,
      "outputs": [
        {
          "output_type": "execute_result",
          "data": {
            "text/plain": [
              "                                    Class Path Class\n",
              "0    /content/brain_tumor_dataset/yes/Y109.JPG   yes\n",
              "1    /content/brain_tumor_dataset/yes/Y183.jpg   yes\n",
              "2     /content/brain_tumor_dataset/yes/Y18.JPG   yes\n",
              "3     /content/brain_tumor_dataset/yes/Y71.JPG   yes\n",
              "4     /content/brain_tumor_dataset/yes/Y70.jpg   yes\n",
              "..                                         ...   ...\n",
              "248     /content/brain_tumor_dataset/no/N2.JPG    no\n",
              "249   /content/brain_tumor_dataset/no/No11.jpg    no\n",
              "250  /content/brain_tumor_dataset/no/31 no.jpg    no\n",
              "251  /content/brain_tumor_dataset/no/24 no.jpg    no\n",
              "252  /content/brain_tumor_dataset/no/40 no.jpg    no\n",
              "\n",
              "[253 rows x 2 columns]"
            ],
            "text/html": [
              "\n",
              "  <div id=\"df-8af1a1b0-672e-4ad8-8c14-27d43298cab5\" class=\"colab-df-container\">\n",
              "    <div>\n",
              "<style scoped>\n",
              "    .dataframe tbody tr th:only-of-type {\n",
              "        vertical-align: middle;\n",
              "    }\n",
              "\n",
              "    .dataframe tbody tr th {\n",
              "        vertical-align: top;\n",
              "    }\n",
              "\n",
              "    .dataframe thead th {\n",
              "        text-align: right;\n",
              "    }\n",
              "</style>\n",
              "<table border=\"1\" class=\"dataframe\">\n",
              "  <thead>\n",
              "    <tr style=\"text-align: right;\">\n",
              "      <th></th>\n",
              "      <th>Class Path</th>\n",
              "      <th>Class</th>\n",
              "    </tr>\n",
              "  </thead>\n",
              "  <tbody>\n",
              "    <tr>\n",
              "      <th>0</th>\n",
              "      <td>/content/brain_tumor_dataset/yes/Y109.JPG</td>\n",
              "      <td>yes</td>\n",
              "    </tr>\n",
              "    <tr>\n",
              "      <th>1</th>\n",
              "      <td>/content/brain_tumor_dataset/yes/Y183.jpg</td>\n",
              "      <td>yes</td>\n",
              "    </tr>\n",
              "    <tr>\n",
              "      <th>2</th>\n",
              "      <td>/content/brain_tumor_dataset/yes/Y18.JPG</td>\n",
              "      <td>yes</td>\n",
              "    </tr>\n",
              "    <tr>\n",
              "      <th>3</th>\n",
              "      <td>/content/brain_tumor_dataset/yes/Y71.JPG</td>\n",
              "      <td>yes</td>\n",
              "    </tr>\n",
              "    <tr>\n",
              "      <th>4</th>\n",
              "      <td>/content/brain_tumor_dataset/yes/Y70.jpg</td>\n",
              "      <td>yes</td>\n",
              "    </tr>\n",
              "    <tr>\n",
              "      <th>...</th>\n",
              "      <td>...</td>\n",
              "      <td>...</td>\n",
              "    </tr>\n",
              "    <tr>\n",
              "      <th>248</th>\n",
              "      <td>/content/brain_tumor_dataset/no/N2.JPG</td>\n",
              "      <td>no</td>\n",
              "    </tr>\n",
              "    <tr>\n",
              "      <th>249</th>\n",
              "      <td>/content/brain_tumor_dataset/no/No11.jpg</td>\n",
              "      <td>no</td>\n",
              "    </tr>\n",
              "    <tr>\n",
              "      <th>250</th>\n",
              "      <td>/content/brain_tumor_dataset/no/31 no.jpg</td>\n",
              "      <td>no</td>\n",
              "    </tr>\n",
              "    <tr>\n",
              "      <th>251</th>\n",
              "      <td>/content/brain_tumor_dataset/no/24 no.jpg</td>\n",
              "      <td>no</td>\n",
              "    </tr>\n",
              "    <tr>\n",
              "      <th>252</th>\n",
              "      <td>/content/brain_tumor_dataset/no/40 no.jpg</td>\n",
              "      <td>no</td>\n",
              "    </tr>\n",
              "  </tbody>\n",
              "</table>\n",
              "<p>253 rows × 2 columns</p>\n",
              "</div>\n",
              "    <div class=\"colab-df-buttons\">\n",
              "\n",
              "  <div class=\"colab-df-container\">\n",
              "    <button class=\"colab-df-convert\" onclick=\"convertToInteractive('df-8af1a1b0-672e-4ad8-8c14-27d43298cab5')\"\n",
              "            title=\"Convert this dataframe to an interactive table.\"\n",
              "            style=\"display:none;\">\n",
              "\n",
              "  <svg xmlns=\"http://www.w3.org/2000/svg\" height=\"24px\" viewBox=\"0 -960 960 960\">\n",
              "    <path d=\"M120-120v-720h720v720H120Zm60-500h600v-160H180v160Zm220 220h160v-160H400v160Zm0 220h160v-160H400v160ZM180-400h160v-160H180v160Zm440 0h160v-160H620v160ZM180-180h160v-160H180v160Zm440 0h160v-160H620v160Z\"/>\n",
              "  </svg>\n",
              "    </button>\n",
              "\n",
              "  <style>\n",
              "    .colab-df-container {\n",
              "      display:flex;\n",
              "      gap: 12px;\n",
              "    }\n",
              "\n",
              "    .colab-df-convert {\n",
              "      background-color: #E8F0FE;\n",
              "      border: none;\n",
              "      border-radius: 50%;\n",
              "      cursor: pointer;\n",
              "      display: none;\n",
              "      fill: #1967D2;\n",
              "      height: 32px;\n",
              "      padding: 0 0 0 0;\n",
              "      width: 32px;\n",
              "    }\n",
              "\n",
              "    .colab-df-convert:hover {\n",
              "      background-color: #E2EBFA;\n",
              "      box-shadow: 0px 1px 2px rgba(60, 64, 67, 0.3), 0px 1px 3px 1px rgba(60, 64, 67, 0.15);\n",
              "      fill: #174EA6;\n",
              "    }\n",
              "\n",
              "    .colab-df-buttons div {\n",
              "      margin-bottom: 4px;\n",
              "    }\n",
              "\n",
              "    [theme=dark] .colab-df-convert {\n",
              "      background-color: #3B4455;\n",
              "      fill: #D2E3FC;\n",
              "    }\n",
              "\n",
              "    [theme=dark] .colab-df-convert:hover {\n",
              "      background-color: #434B5C;\n",
              "      box-shadow: 0px 1px 3px 1px rgba(0, 0, 0, 0.15);\n",
              "      filter: drop-shadow(0px 1px 2px rgba(0, 0, 0, 0.3));\n",
              "      fill: #FFFFFF;\n",
              "    }\n",
              "  </style>\n",
              "\n",
              "    <script>\n",
              "      const buttonEl =\n",
              "        document.querySelector('#df-8af1a1b0-672e-4ad8-8c14-27d43298cab5 button.colab-df-convert');\n",
              "      buttonEl.style.display =\n",
              "        google.colab.kernel.accessAllowed ? 'block' : 'none';\n",
              "\n",
              "      async function convertToInteractive(key) {\n",
              "        const element = document.querySelector('#df-8af1a1b0-672e-4ad8-8c14-27d43298cab5');\n",
              "        const dataTable =\n",
              "          await google.colab.kernel.invokeFunction('convertToInteractive',\n",
              "                                                    [key], {});\n",
              "        if (!dataTable) return;\n",
              "\n",
              "        const docLinkHtml = 'Like what you see? Visit the ' +\n",
              "          '<a target=\"_blank\" href=https://colab.research.google.com/notebooks/data_table.ipynb>data table notebook</a>'\n",
              "          + ' to learn more about interactive tables.';\n",
              "        element.innerHTML = '';\n",
              "        dataTable['output_type'] = 'display_data';\n",
              "        await google.colab.output.renderOutput(dataTable, element);\n",
              "        const docLink = document.createElement('div');\n",
              "        docLink.innerHTML = docLinkHtml;\n",
              "        element.appendChild(docLink);\n",
              "      }\n",
              "    </script>\n",
              "  </div>\n",
              "\n",
              "\n",
              "<div id=\"df-59d0feb9-eba9-4fae-95a0-a6c8e358bd26\">\n",
              "  <button class=\"colab-df-quickchart\" onclick=\"quickchart('df-59d0feb9-eba9-4fae-95a0-a6c8e358bd26')\"\n",
              "            title=\"Suggest charts\"\n",
              "            style=\"display:none;\">\n",
              "\n",
              "<svg xmlns=\"http://www.w3.org/2000/svg\" height=\"24px\"viewBox=\"0 0 24 24\"\n",
              "     width=\"24px\">\n",
              "    <g>\n",
              "        <path d=\"M19 3H5c-1.1 0-2 .9-2 2v14c0 1.1.9 2 2 2h14c1.1 0 2-.9 2-2V5c0-1.1-.9-2-2-2zM9 17H7v-7h2v7zm4 0h-2V7h2v10zm4 0h-2v-4h2v4z\"/>\n",
              "    </g>\n",
              "</svg>\n",
              "  </button>\n",
              "\n",
              "<style>\n",
              "  .colab-df-quickchart {\n",
              "      --bg-color: #E8F0FE;\n",
              "      --fill-color: #1967D2;\n",
              "      --hover-bg-color: #E2EBFA;\n",
              "      --hover-fill-color: #174EA6;\n",
              "      --disabled-fill-color: #AAA;\n",
              "      --disabled-bg-color: #DDD;\n",
              "  }\n",
              "\n",
              "  [theme=dark] .colab-df-quickchart {\n",
              "      --bg-color: #3B4455;\n",
              "      --fill-color: #D2E3FC;\n",
              "      --hover-bg-color: #434B5C;\n",
              "      --hover-fill-color: #FFFFFF;\n",
              "      --disabled-bg-color: #3B4455;\n",
              "      --disabled-fill-color: #666;\n",
              "  }\n",
              "\n",
              "  .colab-df-quickchart {\n",
              "    background-color: var(--bg-color);\n",
              "    border: none;\n",
              "    border-radius: 50%;\n",
              "    cursor: pointer;\n",
              "    display: none;\n",
              "    fill: var(--fill-color);\n",
              "    height: 32px;\n",
              "    padding: 0;\n",
              "    width: 32px;\n",
              "  }\n",
              "\n",
              "  .colab-df-quickchart:hover {\n",
              "    background-color: var(--hover-bg-color);\n",
              "    box-shadow: 0 1px 2px rgba(60, 64, 67, 0.3), 0 1px 3px 1px rgba(60, 64, 67, 0.15);\n",
              "    fill: var(--button-hover-fill-color);\n",
              "  }\n",
              "\n",
              "  .colab-df-quickchart-complete:disabled,\n",
              "  .colab-df-quickchart-complete:disabled:hover {\n",
              "    background-color: var(--disabled-bg-color);\n",
              "    fill: var(--disabled-fill-color);\n",
              "    box-shadow: none;\n",
              "  }\n",
              "\n",
              "  .colab-df-spinner {\n",
              "    border: 2px solid var(--fill-color);\n",
              "    border-color: transparent;\n",
              "    border-bottom-color: var(--fill-color);\n",
              "    animation:\n",
              "      spin 1s steps(1) infinite;\n",
              "  }\n",
              "\n",
              "  @keyframes spin {\n",
              "    0% {\n",
              "      border-color: transparent;\n",
              "      border-bottom-color: var(--fill-color);\n",
              "      border-left-color: var(--fill-color);\n",
              "    }\n",
              "    20% {\n",
              "      border-color: transparent;\n",
              "      border-left-color: var(--fill-color);\n",
              "      border-top-color: var(--fill-color);\n",
              "    }\n",
              "    30% {\n",
              "      border-color: transparent;\n",
              "      border-left-color: var(--fill-color);\n",
              "      border-top-color: var(--fill-color);\n",
              "      border-right-color: var(--fill-color);\n",
              "    }\n",
              "    40% {\n",
              "      border-color: transparent;\n",
              "      border-right-color: var(--fill-color);\n",
              "      border-top-color: var(--fill-color);\n",
              "    }\n",
              "    60% {\n",
              "      border-color: transparent;\n",
              "      border-right-color: var(--fill-color);\n",
              "    }\n",
              "    80% {\n",
              "      border-color: transparent;\n",
              "      border-right-color: var(--fill-color);\n",
              "      border-bottom-color: var(--fill-color);\n",
              "    }\n",
              "    90% {\n",
              "      border-color: transparent;\n",
              "      border-bottom-color: var(--fill-color);\n",
              "    }\n",
              "  }\n",
              "</style>\n",
              "\n",
              "  <script>\n",
              "    async function quickchart(key) {\n",
              "      const quickchartButtonEl =\n",
              "        document.querySelector('#' + key + ' button');\n",
              "      quickchartButtonEl.disabled = true;  // To prevent multiple clicks.\n",
              "      quickchartButtonEl.classList.add('colab-df-spinner');\n",
              "      try {\n",
              "        const charts = await google.colab.kernel.invokeFunction(\n",
              "            'suggestCharts', [key], {});\n",
              "      } catch (error) {\n",
              "        console.error('Error during call to suggestCharts:', error);\n",
              "      }\n",
              "      quickchartButtonEl.classList.remove('colab-df-spinner');\n",
              "      quickchartButtonEl.classList.add('colab-df-quickchart-complete');\n",
              "    }\n",
              "    (() => {\n",
              "      let quickchartButtonEl =\n",
              "        document.querySelector('#df-59d0feb9-eba9-4fae-95a0-a6c8e358bd26 button');\n",
              "      quickchartButtonEl.style.display =\n",
              "        google.colab.kernel.accessAllowed ? 'block' : 'none';\n",
              "    })();\n",
              "  </script>\n",
              "</div>\n",
              "\n",
              "    </div>\n",
              "  </div>\n"
            ],
            "application/vnd.google.colaboratory.intrinsic+json": {
              "type": "dataframe",
              "summary": "{\n  \"name\": \"load_df(\\\"/content/brain_tumor_dataset\\\")\",\n  \"rows\": 253,\n  \"fields\": [\n    {\n      \"column\": \"Class Path\",\n      \"properties\": {\n        \"dtype\": \"string\",\n        \"num_unique_values\": 253,\n        \"samples\": [\n          \"/content/brain_tumor_dataset/no/6 no.jpg\",\n          \"/content/brain_tumor_dataset/yes/Y105.jpg\",\n          \"/content/brain_tumor_dataset/yes/Y50.JPG\"\n        ],\n        \"semantic_type\": \"\",\n        \"description\": \"\"\n      }\n    },\n    {\n      \"column\": \"Class\",\n      \"properties\": {\n        \"dtype\": \"category\",\n        \"num_unique_values\": 2,\n        \"samples\": [\n          \"no\",\n          \"yes\"\n        ],\n        \"semantic_type\": \"\",\n        \"description\": \"\"\n      }\n    }\n  ]\n}"
            }
          },
          "metadata": {},
          "execution_count": 9
        }
      ]
    },
    {
      "cell_type": "code",
      "source": [
        "import os\n",
        "from PIL import Image\n",
        "\n",
        "def check_invalid_images(path):\n",
        "    invalid_images = []  # List to store invalid image paths\n",
        "\n",
        "    for label in os.listdir(path):\n",
        "        label_path = os.path.join(path, label)\n",
        "\n",
        "        # Check if it's a directory (i.e., a class folder)\n",
        "        if os.path.isdir(label_path):\n",
        "            try:\n",
        "                for image in os.listdir(label_path):\n",
        "                    image_path = os.path.join(label_path, image)\n",
        "\n",
        "                    # Only check image files (optional, depending on your needs)\n",
        "                    if os.path.isfile(image_path):\n",
        "                        try:\n",
        "                            # Attempt to open and verify the image\n",
        "                            with Image.open(image_path) as img:\n",
        "                                img.verify()  # Verify image integrity\n",
        "                        except (IOError, SyntaxError) as e:\n",
        "                            invalid_images.append(image_path)  # Log invalid image path\n",
        "            except Exception as e:\n",
        "                print(f\"Error processing folder {label}: {e}\")\n",
        "\n",
        "    # Return the list of invalid images\n",
        "    return invalid_images\n",
        "\n",
        "\n"
      ],
      "metadata": {
        "id": "GLcVG0iSfGfw"
      },
      "execution_count": null,
      "outputs": []
    },
    {
      "cell_type": "code",
      "source": [
        "check_invalid_images(\"/content/brain_tumor_dataset\")"
      ],
      "metadata": {
        "colab": {
          "base_uri": "https://localhost:8080/"
        },
        "id": "l0FTbkABfIF3",
        "outputId": "e750f7b3-3a97-4fa2-b543-a7d9bdfe0af7"
      },
      "execution_count": null,
      "outputs": [
        {
          "output_type": "execute_result",
          "data": {
            "text/plain": [
              "[]"
            ]
          },
          "metadata": {},
          "execution_count": 11
        }
      ]
    },
    {
      "cell_type": "code",
      "execution_count": null,
      "metadata": {
        "colab": {
          "base_uri": "https://localhost:8080/",
          "height": 521
        },
        "id": "FxBWQDRLYkvL",
        "outputId": "a316e032-c54f-4acf-c4d9-72a87801d078"
      },
      "outputs": [
        {
          "output_type": "display_data",
          "data": {
            "text/plain": [
              "<Figure size 600x600 with 1 Axes>"
            ],
            "image/png": "[encoded data removed]"
          },
          "metadata": {}
        }
      ],
      "source": [
        "#  funntion that displays requested image\n",
        "\n",
        "def display_image(folder_name, image_name, base_path=\"/content/brain_tumor_dataset\"):\n",
        "    \"\"\"\n",
        "    Displays a random image from a given folder (category) with its label.\n",
        "\n",
        "    Parameters:\n",
        "    - folder_name (str): Name of the category folder (e.g., \"glioma\", \"meningioma\").\n",
        "    - label (str): Label for the image (e.g., \"Tumor\" or \"No Tumor\").\n",
        "    - base_path (str): Root path where the dataset is stored (default is train path).\n",
        "    \"\"\"\n",
        "    # Construct the full path to the folder\n",
        "    folder_path = os.path.join(base_path, folder_name)\n",
        "    image_path = os.path.join(folder_path,image_name)\n",
        "\n",
        "\n",
        "    # Check if the folder exists\n",
        "    if not os.path.exists(folder_path):\n",
        "        print(f\"❌ Error: Folder '{folder_name}' not found at '{folder_path}'.\")\n",
        "        return\n",
        "\n",
        "    # Get list of images in the folder\n",
        "    images = os.listdir(folder_path)\n",
        "\n",
        "    if len(images) == 0:\n",
        "        print(f\"⚠️ No images found in '{folder_name}' folder.\")\n",
        "        return\n",
        "\n",
        "\n",
        "    # Load image with OpenCV (convert BGR to RGB)\n",
        "    img = cv2.imread(image_path)\n",
        "    img = cv2.cvtColor(img, cv2.COLOR_BGR2RGB)\n",
        "\n",
        "    # Display the image\n",
        "    plt.figure(figsize=(6, 6))\n",
        "    plt.imshow(img)\n",
        "    plt.title(f\"Category: {folder_name} | Label: {image_name}\")\n",
        "    plt.axis(\"off\")\n",
        "    plt.show()\n",
        "display_image(\"yes\", \"Y3.jpg\")"
      ]
    },
    {
      "cell_type": "code",
      "execution_count": null,
      "metadata": {
        "colab": {
          "base_uri": "https://localhost:8080/"
        },
        "id": "w2Flhe6PjTRP",
        "outputId": "36c4723d-d919-478f-b47a-f0a3628a8ff8"
      },
      "outputs": [
        {
          "output_type": "stream",
          "name": "stderr",
          "text": [
            "Processing yes: 100%|██████████| 155/155 [00:00<00:00, 464.32it/s]\n",
            "Processing no: 100%|██████████| 98/98 [00:00<00:00, 561.38it/s]"
          ]
        },
        {
          "output_type": "stream",
          "name": "stdout",
          "text": [
            "✅ Preprocessing complete! All images resized in place.\n"
          ]
        },
        {
          "output_type": "stream",
          "name": "stderr",
          "text": [
            "\n"
          ]
        }
      ],
      "source": [
        "  # Progress bar\n",
        "\n",
        "def preprocess_images_in_place(folder_path, target_size=(224, 224)):\n",
        "    \"\"\"\n",
        "    Resizes all images in folder_path to target_size and saves them in the same location.\n",
        "\n",
        "    Parameters:\n",
        "    - folder_path (str): Path to main dataset folder (e.g., 'dataset/')\n",
        "    - target_size (tuple): Target image size (default is 224x224)\n",
        "    \"\"\"\n",
        "\n",
        "    # Loop through all category folders\n",
        "    for category in os.listdir(folder_path):\n",
        "        category_path = os.path.join(folder_path, category)\n",
        "\n",
        "        if not os.path.isdir(category_path):\n",
        "            continue  # Skip if it's not a folder\n",
        "\n",
        "        # Process each image in the category folder\n",
        "        for image_name in tqdm(os.listdir(category_path), desc=f\"Processing {category}\"):\n",
        "            image_path = os.path.join(category_path, image_name)\n",
        "\n",
        "            # Read image\n",
        "            img = cv2.imread(image_path)\n",
        "            if img is None:\n",
        "                print(f\"⚠️ Skipping {image_name} (corrupt or unreadable)\")\n",
        "                continue\n",
        "\n",
        "            # Convert to RGB (if grayscale)\n",
        "            img = cv2.cvtColor(img, cv2.COLOR_BGR2RGB)\n",
        "\n",
        "            # Resize image\n",
        "            img = cv2.resize(img, target_size)\n",
        "\n",
        "            # Overwrite the original image with the resized one\n",
        "            cv2.imwrite(image_path, cv2.cvtColor(img, cv2.COLOR_RGB2BGR))\n",
        "\n",
        "    print(\"✅ Preprocessing complete! All images resized in place.\")\n",
        "\n",
        "# Example usage\n",
        "preprocess_images_in_place(\"/content/brain_tumor_dataset\")\n"
      ]
    },
    {
      "cell_type": "code",
      "execution_count": null,
      "metadata": {
        "colab": {
          "base_uri": "https://localhost:8080/"
        },
        "id": "q1KzsPIkuWoP",
        "outputId": "397deb69-dc15-4ca1-d568-1bfad80fd62e"
      },
      "outputs": [
        {
          "output_type": "stream",
          "name": "stdout",
          "text": [
            "(224, 224, 3)\n"
          ]
        }
      ],
      "source": [
        "# making sure all the imges were successful\n",
        "img = cv2.imread(\"/content/brain_tumor_dataset/yes/Y104.jpg\")\n",
        "print(img.shape)"
      ]
    },
    {
      "cell_type": "code",
      "execution_count": null,
      "metadata": {
        "colab": {
          "base_uri": "https://localhost:8080/"
        },
        "id": "ypquOJbha-t2",
        "outputId": "ec41e5f4-3efe-4c07-ae88-4ab1f43cd0fc"
      },
      "outputs": [
        {
          "output_type": "stream",
          "name": "stdout",
          "text": [
            "Data split complete. Training set: 202 images, Validation set: 51 images.\n"
          ]
        }
      ],
      "source": [
        "\n",
        "from sklearn.model_selection import train_test_split\n",
        "\n",
        "def split_data(path, train_size=0.8, val_size=0.2, output_dir='split_data'):\n",
        "    # Ensure the output directory exists\n",
        "    if not os.path.exists(output_dir):\n",
        "        os.makedirs(output_dir)\n",
        "\n",
        "    # Create subdirectories for train and validation sets\n",
        "    for subset in ['train', 'val']:\n",
        "        subset_path = os.path.join(output_dir, subset)\n",
        "        if not os.path.exists(subset_path):\n",
        "            os.makedirs(subset_path)\n",
        "\n",
        "    # Collect image paths and labels\n",
        "    image_paths = []\n",
        "    labels = []\n",
        "\n",
        "    for label in os.listdir(path):\n",
        "        label_path = os.path.join(path, label)\n",
        "        if os.path.isdir(label_path):\n",
        "            for image in os.listdir(label_path):\n",
        "                image_path = os.path.join(label_path, image)\n",
        "                if os.path.isfile(image_path):\n",
        "                    image_paths.append(image_path)\n",
        "                    labels.append(label)\n",
        "\n",
        "    # Split into train and validation\n",
        "    train_paths, val_paths = train_test_split(image_paths, train_size=train_size, stratify=labels, random_state=42)\n",
        "\n",
        "    # Function to move images to their respective directories\n",
        "    def move_images(image_paths, subset):\n",
        "        for image_path in image_paths:\n",
        "            # Extract the label from the image path (parent directory name)\n",
        "            label = os.path.basename(os.path.dirname(image_path))\n",
        "            # Create the label directory inside the subset folder\n",
        "            label_dir = os.path.join(output_dir, subset, label)\n",
        "            if not os.path.exists(label_dir):\n",
        "                os.makedirs(label_dir)\n",
        "            # Move the image to the appropriate folder\n",
        "            shutil.copy(image_path, os.path.join(label_dir, os.path.basename(image_path)))\n",
        "\n",
        "    # Move the images to the respective train and val directories\n",
        "    move_images(train_paths, 'train')\n",
        "    move_images(val_paths, 'val')\n",
        "\n",
        "    print(f\"Data split complete. Training set: {len(train_paths)} images, Validation set: {len(val_paths)} images.\")\n",
        "\n",
        "# Example usage\n",
        "split_data('/content/brain_tumor_dataset', train_size=0.8, val_size=0.2, output_dir='/content/brain_tumor_dataset/split_data')\n",
        "\n"
      ]
    },
    {
      "cell_type": "code",
      "source": [],
      "metadata": {
        "colab": {
          "base_uri": "https://localhost:8080/"
        },
        "id": "2jHWujTnivdP",
        "outputId": "881e2fa8-d815-45a3-9441-68449da43067"
      },
      "execution_count": null,
      "outputs": [
        {
          "output_type": "stream",
          "name": "stdout",
          "text": [
            "Found 202 images belonging to 2 classes.\n",
            "Found 51 images belonging to 2 classes.\n"
          ]
        }
      ]
    },
    {
      "cell_type": "code",
      "source": [
        "from tensorflow.keras.applications import MobileNetV2\n",
        "from tensorflow.keras.models import Model\n",
        "from tensorflow.keras.layers import Dense, GlobalAveragePooling2D, Dropout\n",
        "from tensorflow.keras.optimizers import Adam\n",
        "from tensorflow.keras.preprocessing.image import ImageDataGenerator\n",
        "from tensorflow.keras.callbacks import EarlyStopping, ModelCheckpoint\n",
        "\n",
        "# Load the base model\n",
        "base_model = MobileNetV2(weights='imagenet', include_top=False, input_shape=(224,224,3))\n",
        "base_model.trainable = False  # Freeze base model\n",
        "\n",
        "# Add custom layers\n",
        "x = base_model.output\n",
        "x = GlobalAveragePooling2D()(x)\n",
        "x = Dropout(0.3)(x)\n",
        "x = Dense(128, activation='relu')(x)\n",
        "x = Dropout(0.3)(x)\n",
        "predictions = Dense(1, activation='sigmoid')(x)\n",
        "\n",
        "model = Model(inputs=base_model.input, outputs=predictions)\n",
        "\n",
        "# Compile\n",
        "model.compile(optimizer=Adam(learning_rate=0.0001), loss='binary_crossentropy', metrics=['accuracy'])\n",
        "\n",
        "\n",
        "\n",
        "# Set up ImageDataGenerator for preprocessing\n",
        "datagen = ImageDataGenerator(\n",
        "    rescale=1./255,\n",
        "    rotation_range=40,  # Increased range for rotations\n",
        "    width_shift_range=0.3,  # Increased range for width shift\n",
        "    height_shift_range=0.3,  # Increased range for height shift\n",
        "    shear_range=0.3,  # Increased shear range\n",
        "    zoom_range=0.3,  # Increased zoom range\n",
        "    horizontal_flip=True,\n",
        "    fill_mode='nearest'\n",
        ")\n",
        "\n",
        "val_datagen = ImageDataGenerator(rescale=1./255)\n",
        "\n",
        "# Set the path for the train and val directories\n",
        "train_dir = '/content/brain_tumor_dataset/split_data/train'\n",
        "val_dir = '/content/brain_tumor_dataset/split_data/val'\n",
        "\n",
        "# Load the images using flow_from_directory\n",
        "train_generator = datagen.flow_from_directory(\n",
        "    train_dir,\n",
        "    target_size=(224, 224),  # Resize images to 150x150\n",
        "    batch_size=32,\n",
        "    class_mode='binary'  # Since it’s a binary classification (brain tumor or not)\n",
        ")\n",
        "\n",
        "val_generator = datagen.flow_from_directory(\n",
        "    val_dir,\n",
        "    target_size=(224, 224),  # Resize images to 150x150\n",
        "    batch_size=32,\n",
        "    class_mode='binary'\n",
        ")\n",
        "\n",
        "\n",
        "# Callbacks\n",
        "callbacks = [\n",
        "    EarlyStopping(monitor='val_loss', patience=5, restore_best_weights=True),\n",
        "    ModelCheckpoint('mobilenetv2_brain_tumor.h5', monitor='val_accuracy', save_best_only=True)\n",
        "]\n",
        "\n",
        "# Train\n",
        "history = model.fit(\n",
        "    train_generator,\n",
        "    validation_data=val_generator,\n",
        "    epochs=20,\n",
        "    callbacks=callbacks\n",
        ")\n"
      ],
      "metadata": {
        "colab": {
          "base_uri": "https://localhost:8080/"
        },
        "id": "rQGxnTI-ivR6",
        "outputId": "9eeba87a-374d-4e21-e870-04eb9ae54c0e"
      },
      "execution_count": null,
      "outputs": [
        {
          "output_type": "stream",
          "name": "stdout",
          "text": [
            "Downloading data from https://storage.googleapis.com/tensorflow/keras-applications/mobilenet_v2/mobilenet_v2_weights_tf_dim_ordering_tf_kernels_1.0_224_no_top.h5\n",
            "\u001b[1m9406464/9406464\u001b[0m \u001b[32m━━━━━━━━━━━━━━━━━━━━\u001b[0m\u001b[37m\u001b[0m \u001b[1m0s\u001b[0m 0us/step\n",
            "Found 202 images belonging to 2 classes.\n",
            "Found 51 images belonging to 2 classes.\n",
            "Epoch 1/20\n",
            "\u001b[1m7/7\u001b[0m \u001b[32m━━━━━━━━━━━━━━━━━━━━\u001b[0m\u001b[37m\u001b[0m \u001b[1m0s\u001b[0m 1s/step - accuracy: 0.6035 - loss: 0.7302"
          ]
        },
        {
          "output_type": "stream",
          "name": "stderr",
          "text": [
            "WARNING:absl:You are saving your model as an HDF5 file via `model.save()` or `keras.saving.save_model(model)`. This file format is considered legacy. We recommend using instead the native Keras format, e.g. `model.save('my_model.keras')` or `keras.saving.save_model(model, 'my_model.keras')`. \n"
          ]
        },
        {
          "output_type": "stream",
          "name": "stdout",
          "text": [
            "\b\b\b\b\b\b\b\b\b\b\b\b\b\b\b\b\b\b\b\b\b\b\b\b\b\b\b\b\b\b\b\b\b\b\b\b\b\b\b\b\b\b\b\b\b\b\b\b\b\b\b\b\b\b\b\b\b\b\b\b\b\b\b\b\b\b\b\b\b\r\u001b[1m7/7\u001b[0m \u001b[32m━━━━━━━━━━━━━━━━━━━━\u001b[0m\u001b[37m\u001b[0m \u001b[1m26s\u001b[0m 2s/step - accuracy: 0.6048 - loss: 0.7294 - val_accuracy: 0.6863 - val_loss: 0.6321\n",
            "Epoch 2/20\n",
            "\u001b[1m7/7\u001b[0m \u001b[32m━━━━━━━━━━━━━━━━━━━━\u001b[0m\u001b[37m\u001b[0m \u001b[1m0s\u001b[0m 339ms/step - accuracy: 0.5565 - loss: 0.6850"
          ]
        },
        {
          "output_type": "stream",
          "name": "stderr",
          "text": [
            "WARNING:absl:You are saving your model as an HDF5 file via `model.save()` or `keras.saving.save_model(model)`. This file format is considered legacy. We recommend using instead the native Keras format, e.g. `model.save('my_model.keras')` or `keras.saving.save_model(model, 'my_model.keras')`. \n"
          ]
        },
        {
          "output_type": "stream",
          "name": "stdout",
          "text": [
            "\b\b\b\b\b\b\b\b\b\b\b\b\b\b\b\b\b\b\b\b\b\b\b\b\b\b\b\b\b\b\b\b\b\b\b\b\b\b\b\b\b\b\b\b\b\b\b\b\b\b\b\b\b\b\b\b\b\b\b\b\b\b\b\b\b\b\b\b\b\b\b\b\r\u001b[1m7/7\u001b[0m \u001b[32m━━━━━━━━━━━━━━━━━━━━\u001b[0m\u001b[37m\u001b[0m \u001b[1m3s\u001b[0m 502ms/step - accuracy: 0.5600 - loss: 0.6861 - val_accuracy: 0.7255 - val_loss: 0.5658\n",
            "Epoch 3/20\n",
            "\u001b[1m7/7\u001b[0m \u001b[32m━━━━━━━━━━━━━━━━━━━━\u001b[0m\u001b[37m\u001b[0m \u001b[1m0s\u001b[0m 307ms/step - accuracy: 0.6677 - loss: 0.5963"
          ]
        },
        {
          "output_type": "stream",
          "name": "stderr",
          "text": [
            "WARNING:absl:You are saving your model as an HDF5 file via `model.save()` or `keras.saving.save_model(model)`. This file format is considered legacy. We recommend using instead the native Keras format, e.g. `model.save('my_model.keras')` or `keras.saving.save_model(model, 'my_model.keras')`. \n"
          ]
        },
        {
          "output_type": "stream",
          "name": "stdout",
          "text": [
            "\b\b\b\b\b\b\b\b\b\b\b\b\b\b\b\b\b\b\b\b\b\b\b\b\b\b\b\b\b\b\b\b\b\b\b\b\b\b\b\b\b\b\b\b\b\b\b\b\b\b\b\b\b\b\b\b\b\b\b\b\b\b\b\b\b\b\b\b\b\b\b\b\r\u001b[1m7/7\u001b[0m \u001b[32m━━━━━━━━━━━━━━━━━━━━\u001b[0m\u001b[37m\u001b[0m \u001b[1m4s\u001b[0m 607ms/step - accuracy: 0.6622 - loss: 0.6037 - val_accuracy: 0.7451 - val_loss: 0.5488\n",
            "Epoch 4/20\n",
            "\u001b[1m7/7\u001b[0m \u001b[32m━━━━━━━━━━━━━━━━━━━━\u001b[0m\u001b[37m\u001b[0m \u001b[1m0s\u001b[0m 298ms/step - accuracy: 0.7696 - loss: 0.5176"
          ]
        },
        {
          "output_type": "stream",
          "name": "stderr",
          "text": [
            "WARNING:absl:You are saving your model as an HDF5 file via `model.save()` or `keras.saving.save_model(model)`. This file format is considered legacy. We recommend using instead the native Keras format, e.g. `model.save('my_model.keras')` or `keras.saving.save_model(model, 'my_model.keras')`. \n"
          ]
        },
        {
          "output_type": "stream",
          "name": "stdout",
          "text": [
            "\b\b\b\b\b\b\b\b\b\b\b\b\b\b\b\b\b\b\b\b\b\b\b\b\b\b\b\b\b\b\b\b\b\b\b\b\b\b\b\b\b\b\b\b\b\b\b\b\b\b\b\b\b\b\b\b\b\b\b\b\b\b\b\b\b\b\b\b\b\b\b\b\r\u001b[1m7/7\u001b[0m \u001b[32m━━━━━━━━━━━━━━━━━━━━\u001b[0m\u001b[37m\u001b[0m \u001b[1m3s\u001b[0m 458ms/step - accuracy: 0.7613 - loss: 0.5238 - val_accuracy: 0.8039 - val_loss: 0.4989\n",
            "Epoch 5/20\n",
            "\u001b[1m7/7\u001b[0m \u001b[32m━━━━━━━━━━━━━━━━━━━━\u001b[0m\u001b[37m\u001b[0m \u001b[1m3s\u001b[0m 410ms/step - accuracy: 0.6401 - loss: 0.5991 - val_accuracy: 0.7647 - val_loss: 0.4958\n",
            "Epoch 6/20\n",
            "\u001b[1m7/7\u001b[0m \u001b[32m━━━━━━━━━━━━━━━━━━━━\u001b[0m\u001b[37m\u001b[0m \u001b[1m3s\u001b[0m 416ms/step - accuracy: 0.7148 - loss: 0.5775 - val_accuracy: 0.7255 - val_loss: 0.4885\n",
            "Epoch 7/20\n",
            "\u001b[1m7/7\u001b[0m \u001b[32m━━━━━━━━━━━━━━━━━━━━\u001b[0m\u001b[37m\u001b[0m \u001b[1m4s\u001b[0m 567ms/step - accuracy: 0.6861 - loss: 0.5923 - val_accuracy: 0.7843 - val_loss: 0.4799\n",
            "Epoch 8/20\n",
            "\u001b[1m7/7\u001b[0m \u001b[32m━━━━━━━━━━━━━━━━━━━━\u001b[0m\u001b[37m\u001b[0m \u001b[1m3s\u001b[0m 404ms/step - accuracy: 0.7582 - loss: 0.5425 - val_accuracy: 0.7451 - val_loss: 0.4939\n",
            "Epoch 9/20\n",
            "\u001b[1m7/7\u001b[0m \u001b[32m━━━━━━━━━━━━━━━━━━━━\u001b[0m\u001b[37m\u001b[0m \u001b[1m0s\u001b[0m 305ms/step - accuracy: 0.7065 - loss: 0.5335"
          ]
        },
        {
          "output_type": "stream",
          "name": "stderr",
          "text": [
            "WARNING:absl:You are saving your model as an HDF5 file via `model.save()` or `keras.saving.save_model(model)`. This file format is considered legacy. We recommend using instead the native Keras format, e.g. `model.save('my_model.keras')` or `keras.saving.save_model(model, 'my_model.keras')`. \n"
          ]
        },
        {
          "output_type": "stream",
          "name": "stdout",
          "text": [
            "\b\b\b\b\b\b\b\b\b\b\b\b\b\b\b\b\b\b\b\b\b\b\b\b\b\b\b\b\b\b\b\b\b\b\b\b\b\b\b\b\b\b\b\b\b\b\b\b\b\b\b\b\b\b\b\b\b\b\b\b\b\b\b\b\b\b\b\b\b\b\b\b\r\u001b[1m7/7\u001b[0m \u001b[32m━━━━━━━━━━━━━━━━━━━━\u001b[0m\u001b[37m\u001b[0m \u001b[1m3s\u001b[0m 469ms/step - accuracy: 0.7098 - loss: 0.5323 - val_accuracy: 0.8235 - val_loss: 0.4472\n",
            "Epoch 10/20\n",
            "\u001b[1m7/7\u001b[0m \u001b[32m━━━━━━━━━━━━━━━━━━━━\u001b[0m\u001b[37m\u001b[0m \u001b[1m3s\u001b[0m 416ms/step - accuracy: 0.7609 - loss: 0.5059 - val_accuracy: 0.8039 - val_loss: 0.4424\n",
            "Epoch 11/20\n",
            "\u001b[1m7/7\u001b[0m \u001b[32m━━━━━━━━━━━━━━━━━━━━\u001b[0m\u001b[37m\u001b[0m \u001b[1m5s\u001b[0m 405ms/step - accuracy: 0.7829 - loss: 0.4870 - val_accuracy: 0.7059 - val_loss: 0.4890\n",
            "Epoch 12/20\n",
            "\u001b[1m7/7\u001b[0m \u001b[32m━━━━━━━━━━━━━━━━━━━━\u001b[0m\u001b[37m\u001b[0m \u001b[1m3s\u001b[0m 416ms/step - accuracy: 0.6951 - loss: 0.5470 - val_accuracy: 0.8235 - val_loss: 0.4127\n",
            "Epoch 13/20\n",
            "\u001b[1m7/7\u001b[0m \u001b[32m━━━━━━━━━━━━━━━━━━━━\u001b[0m\u001b[37m\u001b[0m \u001b[1m0s\u001b[0m 302ms/step - accuracy: 0.7771 - loss: 0.4554"
          ]
        },
        {
          "output_type": "stream",
          "name": "stderr",
          "text": [
            "WARNING:absl:You are saving your model as an HDF5 file via `model.save()` or `keras.saving.save_model(model)`. This file format is considered legacy. We recommend using instead the native Keras format, e.g. `model.save('my_model.keras')` or `keras.saving.save_model(model, 'my_model.keras')`. \n"
          ]
        },
        {
          "output_type": "stream",
          "name": "stdout",
          "text": [
            "\b\b\b\b\b\b\b\b\b\b\b\b\b\b\b\b\b\b\b\b\b\b\b\b\b\b\b\b\b\b\b\b\b\b\b\b\b\b\b\b\b\b\b\b\b\b\b\b\b\b\b\b\b\b\b\b\b\b\b\b\b\b\b\b\b\b\b\b\b\b\b\b\r\u001b[1m7/7\u001b[0m \u001b[32m━━━━━━━━━━━━━━━━━━━━\u001b[0m\u001b[37m\u001b[0m \u001b[1m3s\u001b[0m 466ms/step - accuracy: 0.7765 - loss: 0.4533 - val_accuracy: 0.8431 - val_loss: 0.3871\n",
            "Epoch 14/20\n",
            "\u001b[1m7/7\u001b[0m \u001b[32m━━━━━━━━━━━━━━━━━━━━\u001b[0m\u001b[37m\u001b[0m \u001b[1m4s\u001b[0m 559ms/step - accuracy: 0.8022 - loss: 0.4536 - val_accuracy: 0.7647 - val_loss: 0.4661\n",
            "Epoch 15/20\n",
            "\u001b[1m7/7\u001b[0m \u001b[32m━━━━━━━━━━━━━━━━━━━━\u001b[0m\u001b[37m\u001b[0m \u001b[1m3s\u001b[0m 413ms/step - accuracy: 0.7290 - loss: 0.5230 - val_accuracy: 0.8235 - val_loss: 0.3758\n",
            "Epoch 16/20\n",
            "\u001b[1m7/7\u001b[0m \u001b[32m━━━━━━━━━━━━━━━━━━━━\u001b[0m\u001b[37m\u001b[0m \u001b[1m3s\u001b[0m 402ms/step - accuracy: 0.8168 - loss: 0.4354 - val_accuracy: 0.8235 - val_loss: 0.4003\n",
            "Epoch 17/20\n",
            "\u001b[1m7/7\u001b[0m \u001b[32m━━━━━━━━━━━━━━━━━━━━\u001b[0m\u001b[37m\u001b[0m \u001b[1m0s\u001b[0m 310ms/step - accuracy: 0.7980 - loss: 0.4212"
          ]
        },
        {
          "output_type": "stream",
          "name": "stderr",
          "text": [
            "WARNING:absl:You are saving your model as an HDF5 file via `model.save()` or `keras.saving.save_model(model)`. This file format is considered legacy. We recommend using instead the native Keras format, e.g. `model.save('my_model.keras')` or `keras.saving.save_model(model, 'my_model.keras')`. \n"
          ]
        },
        {
          "output_type": "stream",
          "name": "stdout",
          "text": [
            "\b\b\b\b\b\b\b\b\b\b\b\b\b\b\b\b\b\b\b\b\b\b\b\b\b\b\b\b\b\b\b\b\b\b\b\b\b\b\b\b\b\b\b\b\b\b\b\b\b\b\b\b\b\b\b\b\b\b\b\b\b\b\b\b\b\b\b\b\b\b\b\b\r\u001b[1m7/7\u001b[0m \u001b[32m━━━━━━━━━━━━━━━━━━━━\u001b[0m\u001b[37m\u001b[0m \u001b[1m3s\u001b[0m 457ms/step - accuracy: 0.7954 - loss: 0.4215 - val_accuracy: 0.8824 - val_loss: 0.3807\n",
            "Epoch 18/20\n",
            "\u001b[1m7/7\u001b[0m \u001b[32m━━━━━━━━━━━━━━━━━━━━\u001b[0m\u001b[37m\u001b[0m \u001b[1m4s\u001b[0m 576ms/step - accuracy: 0.7759 - loss: 0.4270 - val_accuracy: 0.8824 - val_loss: 0.3649\n",
            "Epoch 19/20\n",
            "\u001b[1m7/7\u001b[0m \u001b[32m━━━━━━━━━━━━━━━━━━━━\u001b[0m\u001b[37m\u001b[0m \u001b[1m3s\u001b[0m 401ms/step - accuracy: 0.8668 - loss: 0.3499 - val_accuracy: 0.8431 - val_loss: 0.3914\n",
            "Epoch 20/20\n",
            "\u001b[1m7/7\u001b[0m \u001b[32m━━━━━━━━━━━━━━━━━━━━\u001b[0m\u001b[37m\u001b[0m \u001b[1m0s\u001b[0m 305ms/step - accuracy: 0.7811 - loss: 0.4248"
          ]
        },
        {
          "output_type": "stream",
          "name": "stderr",
          "text": [
            "WARNING:absl:You are saving your model as an HDF5 file via `model.save()` or `keras.saving.save_model(model)`. This file format is considered legacy. We recommend using instead the native Keras format, e.g. `model.save('my_model.keras')` or `keras.saving.save_model(model, 'my_model.keras')`. \n"
          ]
        },
        {
          "output_type": "stream",
          "name": "stdout",
          "text": [
            "\b\b\b\b\b\b\b\b\b\b\b\b\b\b\b\b\b\b\b\b\b\b\b\b\b\b\b\b\b\b\b\b\b\b\b\b\b\b\b\b\b\b\b\b\b\b\b\b\b\b\b\b\b\b\b\b\b\b\b\b\b\b\b\b\b\b\b\b\b\b\b\b\r\u001b[1m7/7\u001b[0m \u001b[32m━━━━━━━━━━━━━━━━━━━━\u001b[0m\u001b[37m\u001b[0m \u001b[1m3s\u001b[0m 468ms/step - accuracy: 0.7831 - loss: 0.4209 - val_accuracy: 0.9608 - val_loss: 0.3381\n"
          ]
        }
      ]
    },
    {
      "cell_type": "code",
      "source": [
        "import matplotlib.pyplot as plt\n",
        "\n",
        "# Accuracy\n",
        "plt.plot(history.history['accuracy'], label='Train Acc')\n",
        "plt.plot(history.history['val_accuracy'], label='Val Acc')\n",
        "plt.legend()\n",
        "plt.title(\"Accuracy over Epochs\")\n",
        "plt.show()\n",
        "\n",
        "# Loss\n",
        "plt.plot(history.history['loss'], label='Train Loss')\n",
        "plt.plot(history.history['val_loss'], label='Val Loss')\n",
        "plt.legend()\n",
        "plt.title(\"Loss over Epochs\")\n",
        "plt.show()\n"
      ],
      "metadata": {
        "colab": {
          "base_uri": "https://localhost:8080/",
          "height": 887
        },
        "id": "1q8E2ZKClug_",
        "outputId": "e4b56b39-4e79-4257-a687-d8219d0857c8"
      },
      "execution_count": null,
      "outputs": [
        {
          "output_type": "display_data",
          "data": {
            "text/plain": [
              "<Figure size 640x480 with 1 Axes>"
            ],
            "image/png": "[encoded data removed]"
          },
          "metadata": {}
        },
        {
          "output_type": "display_data",
          "data": {
            "text/plain": [
              "<Figure size 640x480 with 1 Axes>"
            ],
            "image/png": "[encoded data removed]"
          },
          "metadata": {}
        }
      ]
    },
    {
      "cell_type": "code",
      "source": [
        "# Save the trained model\n",
        "model.save('brain_tumor_detection_model.h5')\n"
      ],
      "metadata": {
        "colab": {
          "base_uri": "https://localhost:8080/"
        },
        "id": "q3rUuIsKmhnw",
        "outputId": "d03755c0-231c-486a-b2ce-5465b2ad840d"
      },
      "execution_count": null,
      "outputs": [
        {
          "output_type": "stream",
          "name": "stderr",
          "text": [
            "WARNING:absl:You are saving your model as an HDF5 file via `model.save()` or `keras.saving.save_model(model)`. This file format is considered legacy. We recommend using instead the native Keras format, e.g. `model.save('my_model.keras')` or `keras.saving.save_model(model, 'my_model.keras')`. \n"
          ]
        }
      ]
    },
    {
      "cell_type": "code",
      "source": [
        "from tensorflow.keras.models import load_model\n",
        "\n",
        "# Load the model\n",
        "loaded_model = load_model('mobilenetv2_brain_tumor.h5')\n"
      ],
      "metadata": {
        "colab": {
          "base_uri": "https://localhost:8080/"
        },
        "id": "cGC9Quvpn-r1",
        "outputId": "ae0c3cc8-3262-4fc1-87ce-a746767b3d78"
      },
      "execution_count": null,
      "outputs": [
        {
          "output_type": "stream",
          "name": "stderr",
          "text": [
            "WARNING:absl:Compiled the loaded model, but the compiled metrics have yet to be built. `model.compile_metrics` will be empty until you train or evaluate the model.\n"
          ]
        }
      ]
    },
    {
      "cell_type": "code",
      "source": [
        "from tensorflow.keras.preprocessing import image\n",
        "import numpy as np\n",
        "\n",
        "def predict_image(img_path):\n",
        "    img = image.load_img(img_path, target_size=(224, 224))\n",
        "    img_array = image.img_to_array(img)\n",
        "    img_array = img_array / 255.0  # Rescale\n",
        "    img_array = np.expand_dims(img_array, axis=0)\n",
        "\n",
        "    prediction = model.predict(img_array)[0][0]\n",
        "    result = \"Tumor\" if prediction > 0.5 else \"No Tumor\"\n",
        "    confidence = prediction if prediction > 0.5 else 1 - prediction\n",
        "    return result, confidence\n",
        "\n",
        "# Example\n",
        "result, confidence = predict_image(\"/content/gli_0000.jpeg\")\n",
        "print(f\"Prediction: {result} ({confidence * 100:.2f}% confidence)\")\n"
      ],
      "metadata": {
        "colab": {
          "base_uri": "https://localhost:8080/"
        },
        "id": "Uc5k7L3SivJc",
        "outputId": "81f36149-a198-4de0-9da3-9634f2e7d052"
      },
      "execution_count": null,
      "outputs": [
        {
          "output_type": "stream",
          "name": "stdout",
          "text": [
            "\u001b[1m1/1\u001b[0m \u001b[32m━━━━━━━━━━━━━━━━━━━━\u001b[0m\u001b[37m\u001b[0m \u001b[1m0s\u001b[0m 36ms/step\n",
            "Prediction: Tumor (52.14% confidence)\n"
          ]
        }
      ]
    },
    {
      "cell_type": "code",
      "execution_count": null,
      "metadata": {
        "collapsed": true,
        "id": "vf-pcmWntnRP"
      },
      "outputs": [],
      "source": [
        "# # tried training with VGG 16\n",
        "# from tensorflow.keras.applications import VGG16\n",
        "# from tensorflow.keras.layers import GlobalAveragePooling2D\n",
        "# import tensorflow as tf\n",
        "# from tensorflow import keras\n",
        "# from tensorflow.keras.models import Sequential\n",
        "# from tensorflow.keras.layers import Conv2D, MaxPooling2D, Flatten, Dense, Dropout\n",
        "# from tensorflow.keras.preprocessing.image import ImageDataGenerator\n",
        "# from tensorflow.keras.optimizers import Adam\n",
        "# from tensorflow.keras.callbacks import ReduceLROnPlateau\n",
        "\n",
        "# datagen = ImageDataGenerator(\n",
        "#     rescale=1./255,\n",
        "#     rotation_range=30,\n",
        "#     width_shift_range=0.2,\n",
        "#     height_shift_range=0.2,\n",
        "#     shear_range=0.2,\n",
        "#     zoom_range=0.2,\n",
        "#     horizontal_flip=True,\n",
        "#     fill_mode='nearest',\n",
        "#     validation_split=0.2\n",
        "# )\n",
        "\n",
        "\n",
        "# # ✅ Load Training Data\n",
        "# train_data = datagen.flow_from_directory(\n",
        "#     '/content/dataset/Training',\n",
        "#     target_size=(224, 224),\n",
        "#     batch_size=32,\n",
        "#     class_mode='categorical',  # ✅ Multi-class classification\n",
        "#     subset='training'\n",
        "# )\n",
        "\n",
        "# # ✅ Load Validation Data\n",
        "# val_data = datagen.flow_from_directory(\n",
        "#     '/content/dataset/Training',\n",
        "#     target_size=(224, 224),\n",
        "#     batch_size=32,\n",
        "#     class_mode='categorical',  # ✅ Multi-class classification\n",
        "#     subset='validation'\n",
        "# )\n",
        "# # Loading the VGG16\n",
        "# base_model = VGG16(weights='imagenet', include_top=False, input_shape=(224, 224, 3))\n",
        "# # base_model.trainable = False  # Freeze the pretrained layers\n",
        "# # Unfreeze some layers(5)\n",
        "# for layer in base_model.layers[-5:]:\n",
        "#     layer.trainable = True\n",
        "\n",
        "# model = Sequential([\n",
        "#     base_model,\n",
        "#     GlobalAveragePooling2D(),\n",
        "#     Dense(512, activation='relu'),\n",
        "#     Dropout(0.6),\n",
        "#     Dense(train_data.num_classes, activation='softmax')\n",
        "# ])\n",
        "# optimizer = Adam(learning_rate=5e-4)\n",
        "# model.compile(\n",
        "#     optimizer=optimizer,\n",
        "#     loss='categorical_crossentropy',  # ✅ Multi-class loss function\n",
        "#     metrics=['accuracy']\n",
        "# )\n",
        "# lr_scheduler = ReduceLROnPlateau(monitor='val_loss',factor=0.5, patience=3, verbose=1)\n",
        "\n",
        "# # 🔹 Train the Model\n",
        "# model.fit(train_data, validation_data=val_data, epochs=25,verbose=2,shuffle = True,batch_size = 64,callbacks=[lr_scheduler])\n",
        "\n",
        "# # 🔹 Save Model to Google Drive\n",
        "# model.save('/content/dataset/model_02.h5')\n",
        "# print(\"✅ Model saved successfully!\")\n"
      ]
    },
    {
      "cell_type": "code",
      "execution_count": null,
      "metadata": {
        "id": "qieQEYmalu_X"
      },
      "outputs": [],
      "source": [
        "# # hyperparameter tuning with keras-tuner\n",
        "# import keras_tuner as kt  # KerasTuner for tuning\n",
        "# from tensorflow.keras.models import Sequential\n",
        "# from tensorflow.keras.layers import Conv2D, MaxPooling2D, Flatten, Dense, Dropout\n",
        "# from tensorflow.keras.optimizers import Adam\n",
        "# from tensorflow.keras.preprocessing.image import ImageDataGenerator\n",
        "# from tensorflow import keras\n",
        "\n",
        "# def build_model(hp):\n",
        "#     model = Sequential()\n",
        "\n",
        "#     # Tune the number of filters and kernel size in the first Conv2D layer\n",
        "#     model.add(Conv2D(\n",
        "#         filters=hp.Int('conv1_filters', min_value=32, max_value=128, step=32),\n",
        "#         kernel_size=hp.Choice('conv1_kernel', values=[3, 5]),\n",
        "#         activation='relu',\n",
        "#         input_shape=(224, 224, 3)\n",
        "#     ))\n",
        "#     model.add(MaxPooling2D(pool_size=2))\n",
        "\n",
        "#     # Second Conv2D Layer\n",
        "#     model.add(Conv2D(\n",
        "#         filters=hp.Int('conv2_filters', min_value=64, max_value=256, step=64),\n",
        "#         kernel_size=hp.Choice('conv2_kernel', values=[3, 5]),\n",
        "#         activation='relu'\n",
        "#     ))\n",
        "#     model.add(MaxPooling2D(pool_size=2))\n",
        "\n",
        "#     # Third Conv2D Layer\n",
        "#     model.add(Conv2D(\n",
        "#         filters=hp.Int('conv3_filters', min_value=128, max_value=512, step=128),\n",
        "#         kernel_size=hp.Choice('conv3_kernel', values=[3, 5]),\n",
        "#         activation='relu'\n",
        "#     ))\n",
        "#     model.add(MaxPooling2D(pool_size=2))\n",
        "\n",
        "#     model.add(Flatten())\n",
        "\n",
        "#     # Tune number of neurons in Dense layer\n",
        "#     model.add(Dense(hp.Int('dense_units', min_value=128, max_value=512, step=128), activation='relu'))\n",
        "#     model.add(Dropout(hp.Float('dropout', min_value=0.3, max_value=0.6, step=0.1)))\n",
        "\n",
        "#     # Output layer\n",
        "#     model.add(Dense(4, activation='softmax'))  # Assuming 4 classes\n",
        "\n",
        "#     # Tune learning rate\n",
        "#     model.compile(\n",
        "#         optimizer=keras.optimizers.Adam(hp.Choice('learning_rate', values=[1e-2, 1e-3, 1e-4])),\n",
        "#         loss='categorical_crossentropy',\n",
        "#         metrics=['accuracy']\n",
        "#     )\n",
        "\n",
        "#     return model\n"
      ]
    },
    {
      "cell_type": "code",
      "execution_count": null,
      "metadata": {
        "id": "nNJvF6kmojbs",
        "collapsed": true
      },
      "outputs": [],
      "source": [
        "# datagen = ImageDataGenerator(\n",
        "#     rescale=1./255,\n",
        "#     rotation_range=30,\n",
        "#     width_shift_range=0.2,\n",
        "#     height_shift_range=0.2,\n",
        "#     shear_range=0.2,\n",
        "#     zoom_range=0.2,\n",
        "#     horizontal_flip=True,\n",
        "#     fill_mode='nearest',\n",
        "#     validation_split=0.2\n",
        "# )\n",
        "\n",
        "\n",
        "# # ✅ Load Training Data\n",
        "# train_data = datagen.flow_from_directory(\n",
        "#     '/content/dataset/Training',\n",
        "#     target_size=(224, 224),\n",
        "#     batch_size=32,\n",
        "#     class_mode='categorical',  # ✅ Multi-class classification\n",
        "#     subset='training'\n",
        "# )\n",
        "\n",
        "# # ✅ Load Validation Data\n",
        "# val_data = datagen.flow_from_directory(\n",
        "#     '/content/dataset/Training',\n",
        "#     target_size=(224, 224),\n",
        "#     batch_size=32,\n",
        "#     class_mode='categorical',  # ✅ Multi-class classification\n",
        "#     subset='validation'\n",
        "# )"
      ]
    },
    {
      "cell_type": "code",
      "execution_count": null,
      "metadata": {
        "id": "uan3ZVf4o1Pg",
        "collapsed": true
      },
      "outputs": [],
      "source": [
        "# # Hyperparameter tuning with KerasTuner\n",
        "# tuner = kt.RandomSearch(\n",
        "#     build_model,\n",
        "#     objective='val_accuracy',  # Optimize for validation accuracy\n",
        "#     max_trials=10,  # Number of different hyperparameter sets to try\n",
        "#     executions_per_trial=1,  # Run each model once\n",
        "#     directory='hyperparam_tuning',\n",
        "#     project_name='brain_tumor_cnn'\n",
        "# )"
      ]
    },
    {
      "cell_type": "code",
      "execution_count": null,
      "metadata": {
        "id": "l0NghHhvo4EM",
        "collapsed": true
      },
      "outputs": [],
      "source": [
        "# tuner.search(train_data, validation_data=val_data, epochs=10)\n"
      ]
    },
    {
      "cell_type": "code",
      "execution_count": null,
      "metadata": {
        "collapsed": true,
        "id": "32CBl97G2SLq"
      },
      "outputs": [],
      "source": [
        "# # Trained with a CNN model\n",
        "# import tensorflow as tf\n",
        "# from tensorflow import keras\n",
        "# from tensorflow.keras.models import Sequential\n",
        "# from tensorflow.keras.layers import Conv2D, MaxPooling2D, Flatten, Dense, Dropout\n",
        "# from tensorflow.keras.preprocessing.image import ImageDataGenerator\n",
        "# from tensorflow.keras.optimizers import Adam\n",
        "# from tensorflow.keras.callbacks import ReduceLROnPlateau\n",
        "# from tensorflow.keras import mixed_precision\n",
        "\n",
        "# mixed_precision.set_global_policy('mixed_float16')\n",
        "# # 🔹 Data Preprocessing (Multi-Class Classification)\n",
        "# datagen = ImageDataGenerator(\n",
        "#     rescale=1./255,\n",
        "#     rotation_range=20,\n",
        "#     width_shift_range=0.2,\n",
        "#     height_shift_range=0.2,\n",
        "#     shear_range=0.2,\n",
        "#     zoom_range=0.2,\n",
        "#     horizontal_flip=True,\n",
        "#     fill_mode='nearest',\n",
        "#     validation_split=0.2\n",
        "# )\n",
        "\n",
        "\n",
        "# # ✅ Load Training Data\n",
        "# train_data = datagen.flow_from_directory(\n",
        "#     '/content/dataset/Training',\n",
        "#     target_size=(128, 128),\n",
        "#     batch_size=4,\n",
        "#     class_mode='categorical',  # ✅ Multi-class classification\n",
        "#     subset='training'\n",
        "# )\n",
        "\n",
        "# # ✅ Load Validation Data\n",
        "# val_data = datagen.flow_from_directory(\n",
        "#     '/content/dataset/Training',\n",
        "#     target_size=(128, 128),\n",
        "#     batch_size=4,\n",
        "#     class_mode='categorical',  # ✅ Multi-class classification\n",
        "#     subset='validation'\n",
        "# )\n",
        "\n",
        "# # print(\"Training class indices:\", train_data.class_indices)\n",
        "# # print(\"Validation class indices:\", val_data.class_indices)\n",
        "\n",
        "# # print(\"Total Training Images:\", train_data.samples)\n",
        "# # print(\"Total Validation Images:\", val_data.samples)\n",
        "\n",
        "# # 🔹 CNN Model\n",
        "# model = Sequential([\n",
        "#     Conv2D(96, (3,3), activation='relu', input_shape=(128,128,3)),\n",
        "\n",
        "\n",
        "#     Conv2D(192, (3,3), activation='relu'),\n",
        "#     MaxPooling2D(2,2),\n",
        "\n",
        "#     Conv2D(512, (5,5), activation='relu'),\n",
        "#     MaxPooling2D(2,2),\n",
        "\n",
        "#     # Conv2D(128, (3,3), activation='relu'),\n",
        "#     # MaxPooling2D(2,2),\n",
        "\n",
        "#     Flatten(),\n",
        "#     Dense(512, activation='relu'),\n",
        "#     Dropout(0.5),\n",
        "#     Dense(train_data.num_classes, activation='softmax')  # ✅ Multi-class output\n",
        "\n",
        "# ])\n",
        "\n",
        "# # 🔹 Compile the Model\n",
        "# optimizer = Adam(learning_rate=0.001)\n",
        "# model.compile(\n",
        "#     optimizer=optimizer,\n",
        "#     loss='categorical_crossentropy',  # ✅ Multi-class loss function\n",
        "#     metrics=['accuracy']\n",
        "# )\n",
        "# lr_scheduler = ReduceLROnPlateau(factor=0.1, patience=5, verbose=1)\n",
        "\n",
        "# # 🔹 Train the Model\n",
        "# model.fit(train_data, validation_data=val_data, epochs=30,verbose=2,shuffle = True,batch_size = 4,callbacks=[lr_scheduler])\n",
        "\n",
        "# # 🔹 Save Model to Google Drive\n",
        "# model.save('/content/dataset/model09.h5')\n",
        "# print(\"✅ Model saved successfully!\")\n"
      ]
    },
    {
      "cell_type": "code",
      "execution_count": null,
      "metadata": {
        "id": "ox7AqWfGo6Bv"
      },
      "outputs": [],
      "source": [
        "# best_hps = tuner.get_best_hyperparameters(num_trials=1)[0]\n",
        "\n",
        "# print(f\"\"\"\n",
        "# 🔹 Best Hyperparameters Found:\n",
        "# - Conv1 Filters: {best_hps.get('conv1_filters')}\n",
        "# - Conv1 Kernel: {best_hps.get('conv1_kernel')}\n",
        "# - Conv2 Filters: {best_hps.get('conv2_filters')}\n",
        "# - Conv2 Kernel: {best_hps.get('conv2_kernel')}\n",
        "# - Conv3 Filters: {best_hps.get('conv3_filters')}\n",
        "# - Conv3 Kernel: {best_hps.get('conv3_kernel')}\n",
        "# - Dense Units: {best_hps.get('dense_units')}\n",
        "# - Dropout Rate: {best_hps.get('dropout')}\n",
        "# - Learning Rate: {best_hps.get('learning_rate')}\n",
        "# \"\"\")\n",
        "\n",
        "# # Train the best model on full dataset\n",
        "# best_model = tuner.hypermodel.build(best_hps)\n",
        "# best_model.fit(train_data, validation_data=val_data, epochs=20)\n",
        "\n",
        "# # Save the best model\n",
        "# best_model.save('/content/best_brain_tumor_model_03.h5')\n",
        "# print(\"✅ Best Model Saved Successfully!\")\n"
      ]
    },
    {
      "cell_type": "code",
      "source": [
        "  # KerasTuner for hyperparameter search\n",
        "\n",
        "# Enable mixed precision (optional, for further memory reduction)\n",
        "tf.keras.mixed_precision.set_global_policy('mixed_float16')\n",
        "\n",
        "# Data Preprocessing with augmentation\n",
        "datagen = ImageDataGenerator(\n",
        "    rescale=1./255,\n",
        "    validation_split=0.2,\n",
        "    rotation_range=15,\n",
        "    width_shift_range=0.1,\n",
        "    height_shift_range=0.1,\n",
        "    shear_range=0.1,\n",
        "    zoom_range=0.1,\n",
        "    horizontal_flip=True,\n",
        "    fill_mode='nearest'\n",
        ")\n",
        "\n",
        "batch_size = 8  # Use a small batch size for memory constraints\n",
        "\n",
        "train_data = datagen.flow_from_directory(\n",
        "    '/content/dataset/Training',\n",
        "    target_size=(224, 224),\n",
        "    batch_size=batch_size,\n",
        "    class_mode='categorical',\n",
        "    subset='training'\n",
        ")\n",
        "\n",
        "val_data = datagen.flow_from_directory(\n",
        "    '/content/dataset/Training',\n",
        "    target_size=(224, 224),\n",
        "    batch_size=batch_size,\n",
        "    class_mode='categorical',\n",
        "    subset='validation'\n",
        ")\n",
        "\n",
        "# Define a hypermodel function to build your model with tunable parameters\n",
        "def build_model(hp):\n",
        "    # Load EfficientNetB0 as the base model (frozen for now)\n",
        "    base_model = EfficientNetB0(weights='imagenet', include_top=False, input_shape=(224, 224, 3))\n",
        "    base_model.trainable = False  # Freeze the base model\n",
        "\n",
        "    model = Sequential()\n",
        "    model.add(base_model)\n",
        "    model.add(GlobalAveragePooling2D())\n",
        "\n",
        "    # Tune the number of neurons in the Dense layer\n",
        "    dense_units = hp.Int('dense_units', min_value=128, max_value=512, step=64)\n",
        "    model.add(Dense(dense_units, activation='relu'))\n",
        "\n",
        "    # Tune the dropout rate\n",
        "    dropout_rate = hp.Float('dropout_rate', min_value=0.3, max_value=0.7, step=0.1)\n",
        "    model.add(Dropout(dropout_rate))\n",
        "\n",
        "    # Output layer (number of classes is determined by your dataset)\n",
        "    model.add(Dense(train_data.num_classes, activation='softmax'))\n",
        "\n",
        "    # Tune the learning rate for the Adam optimizer\n",
        "    learning_rate = hp.Choice('learning_rate', values=[1e-4, 5e-5, 2e-4])\n",
        "    optimizer = Adam(learning_rate=learning_rate)\n",
        "\n",
        "    model.compile(\n",
        "        optimizer=optimizer,\n",
        "        loss='categorical_crossentropy',\n",
        "        metrics=['accuracy']\n",
        "    )\n",
        "    return model\n",
        "\n",
        "# Set up KerasTuner with a RandomSearch\n",
        "tuner = kt.RandomSearch(\n",
        "    build_model,\n",
        "    objective='val_accuracy',\n",
        "    max_trials=10,  # You can adjust the number of trials for more extensive search\n",
        "    executions_per_trial=1,\n",
        "    directory='efficientnet_tuner',\n",
        "    project_name='brain_tumor_efficientnet'\n",
        ")\n",
        "\n",
        "# Start the hyperparameter search\n",
        "tuner.search(train_data, validation_data=val_data, epochs=20, verbose=2)\n",
        "\n",
        "# Retrieve the best hyperparameters found by the tuner\n",
        "best_hps = tuner.get_best_hyperparameters(num_trials=1)[0]\n",
        "print(\"Best Hyperparameters Found:\", best_hps.values)\n",
        "\n",
        "# Build and train the final model with the best hyperparameters\n",
        "best_model = tuner.hypermodel.build(best_hps)\n",
        "history = best_model.fit(train_data, validation_data=val_data, epochs=20, verbose=2)\n",
        "\n",
        "# Save the final trained model\n",
        "best_model.save('/content/dataset/best_efficientnet_model.h5')\n",
        "print(\"✅ Best EfficientNet Model Trained and Saved Successfully!\")\n"
      ],
      "metadata": {
        "colab": {
          "base_uri": "https://localhost:8080/"
        },
        "id": "Vj56LjPNe5xY",
        "outputId": "6745f854-1078-489f-d435-22e52fdea066"
      },
      "execution_count": null,
      "outputs": [
        {
          "output_type": "stream",
          "name": "stdout",
          "text": [
            "Trial 2 Complete [00h 22m 39s]\n",
            "val_accuracy: 0.2795793116092682\n",
            "\n",
            "Best val_accuracy So Far: 0.3838737905025482\n",
            "Total elapsed time: 00h 45m 50s\n",
            "\n",
            "Search: Running Trial #3\n",
            "\n",
            "Value             |Best Value So Far |Hyperparameter\n",
            "512               |512               |dense_units\n",
            "0.4               |0.3               |dropout_rate\n",
            "0.0002            |0.0001            |learning_rate\n",
            "\n",
            "Epoch 1/20\n",
            "572/572 - 99s - 173ms/step - accuracy: 0.2665 - loss: 1.4059 - val_accuracy: 0.2796 - val_loss: 1.3843\n",
            "Epoch 2/20\n",
            "572/572 - 65s - 114ms/step - accuracy: 0.2792 - loss: 1.3886 - val_accuracy: 0.2796 - val_loss: 1.3863\n",
            "Epoch 3/20\n",
            "572/572 - 65s - 113ms/step - accuracy: 0.2680 - loss: 1.3854 - val_accuracy: 0.2796 - val_loss: 1.3837\n",
            "Epoch 4/20\n",
            "572/572 - 72s - 126ms/step - accuracy: 0.2792 - loss: 1.3832 - val_accuracy: 0.2796 - val_loss: 1.3835\n",
            "Epoch 5/20\n",
            "572/572 - 64s - 111ms/step - accuracy: 0.2750 - loss: 1.3851 - val_accuracy: 0.2796 - val_loss: 1.3834\n",
            "Epoch 6/20\n",
            "572/572 - 64s - 112ms/step - accuracy: 0.2783 - loss: 1.3843 - val_accuracy: 0.2796 - val_loss: 1.3828\n",
            "Epoch 7/20\n",
            "572/572 - 65s - 114ms/step - accuracy: 0.2785 - loss: 1.3835 - val_accuracy: 0.2796 - val_loss: 1.3830\n",
            "Epoch 8/20\n",
            "572/572 - 65s - 113ms/step - accuracy: 0.2757 - loss: 1.3834 - val_accuracy: 0.2585 - val_loss: 1.3842\n",
            "Epoch 9/20\n",
            "572/572 - 64s - 113ms/step - accuracy: 0.2816 - loss: 1.3835 - val_accuracy: 0.2796 - val_loss: 1.3828\n",
            "Epoch 10/20\n",
            "572/572 - 64s - 111ms/step - accuracy: 0.2732 - loss: 1.3822 - val_accuracy: 0.2796 - val_loss: 1.3832\n",
            "Epoch 11/20\n",
            "572/572 - 64s - 112ms/step - accuracy: 0.2792 - loss: 1.3817 - val_accuracy: 0.2989 - val_loss: 1.3833\n",
            "Epoch 12/20\n",
            "572/572 - 67s - 117ms/step - accuracy: 0.2862 - loss: 1.3825 - val_accuracy: 0.2796 - val_loss: 1.3825\n",
            "Epoch 13/20\n"
          ]
        }
      ]
    },
    {
      "cell_type": "code",
      "execution_count": null,
      "metadata": {
        "id": "6R9g6J4hc3Os"
      },
      "outputs": [],
      "source": [
        "from tensorflow.keras.models import load_model\n",
        "\n",
        "# Load the trained model\n",
        "model = load_model('/content/dataset/model_09.h5')\n"
      ]
    },
    {
      "cell_type": "code",
      "execution_count": null,
      "metadata": {
        "id": "6MfBE5IGdBN8"
      },
      "outputs": [],
      "source": [
        "from tensorflow.keras.preprocessing.image import ImageDataGenerator\n",
        "\n",
        "# Define the test data generator (rescaling only)\n",
        "test_datagen = ImageDataGenerator(rescale=1./255)\n",
        "\n",
        "# Load the test dataset\n",
        "test_data = test_datagen.flow_from_directory(\n",
        "    '/content/dataset/Testing',  # Change this to the path of your new dataset\n",
        "    target_size=(224, 224),\n",
        "    batch_size=32,\n",
        "    class_mode='categorical',  # Change if it's multi-class\n",
        "    shuffle=True,  # No need to shuffle for evaluation\n",
        "     classes=['glioma', 'meningioma', 'pituitary', 'notumor']\n",
        "\n",
        ")\n"
      ]
    },
    {
      "cell_type": "code",
      "execution_count": null,
      "metadata": {
        "id": "JWs53VAvdss0"
      },
      "outputs": [],
      "source": [
        "# Evaluate on the new test dataset\n",
        "loss, accuracy = model.evaluate(test_data)\n",
        "\n",
        "print(f\"Test Accuracy: {accuracy * 100:.2f}%\")\n",
        "print(f\"Test Loss: {loss:.4f}\")\n"
      ]
    },
    {
      "cell_type": "code",
      "execution_count": null,
      "metadata": {
        "id": "Zk0W99EUdvA8"
      },
      "outputs": [],
      "source": [
        "\n",
        "\n",
        "def predict_image(image_path, model, class_names):\n",
        "    # Load image and preprocess\n",
        "    img = cv2.imread(image_path)\n",
        "    img = cv2.cvtColor(img, cv2.COLOR_BGR2RGB)\n",
        "    img = cv2.resize(img, (224, 224))\n",
        "    img = img / 255.0  # Normalize\n",
        "    img = np.expand_dims(img, axis=0)  # Add batch dimension\n",
        "\n",
        "    # Make prediction\n",
        "    prediction = model.predict(img)\n",
        "    predicted_class = np.argmax(prediction)  # Get class index\n",
        "    print(f\"Predicted: {class_names[predicted_class]}\")\n",
        "\n",
        "# Example usage\n",
        "class_names = ['glioma', 'meningioma', 'pituitary', 'notumor']\n",
        "predict_image('/content/dataset/Testing/meningioma/Te-me_0200.jpg', model, class_names)\n"
      ]
    },
    {
      "cell_type": "code",
      "execution_count": null,
      "metadata": {
        "id": "2NjZzXOkRbYz"
      },
      "outputs": [],
      "source": []
    }
  ],
  "metadata": {
    "accelerator": "GPU",
    "colab": {
      "gpuType": "T4",
      "provenance": []
    },
    "kernelspec": {
      "display_name": "Python 3",
      "name": "python3"
    },
    "language_info": {
      "name": "python"
    }
  },
  "nbformat": 4,
  "nbformat_minor": 0
}